{
 "cells": [
  {
   "cell_type": "markdown",
   "metadata": {
    "tags": [
     "pdf-title"
    ]
   },
   "source": [
    "# Softmax exercise\n",
    "\n",
    "*Complete and hand in this completed worksheet (including its outputs and any supporting code outside of the worksheet) with your assignment submission. For more details see the [assignments page](http://vision.stanford.edu/teaching/cs231n/assignments.html) on the course website.*\n",
    "\n",
    "This exercise is analogous to the SVM exercise. You will:\n",
    "\n",
    "- implement a fully-vectorized **loss function** for the Softmax classifier\n",
    "- implement the fully-vectorized expression for its **analytic gradient**\n",
    "- **check your implementation** with numerical gradient\n",
    "- use a validation set to **tune the learning rate and regularization** strength\n",
    "- **optimize** the loss function with **SGD**\n",
    "- **visualize** the final learned weights\n"
   ]
  },
  {
   "cell_type": "code",
   "execution_count": 1,
   "metadata": {
    "tags": [
     "pdf-ignore"
    ]
   },
   "outputs": [],
   "source": [
    "import random\n",
    "import numpy as np\n",
    "from cs231n.data_utils import load_CIFAR10\n",
    "import matplotlib.pyplot as plt\n",
    "\n",
    "%matplotlib inline\n",
    "plt.rcParams['figure.figsize'] = (10.0, 8.0) # set default size of plots\n",
    "plt.rcParams['image.interpolation'] = 'nearest'\n",
    "plt.rcParams['image.cmap'] = 'gray'\n",
    "\n",
    "# for auto-reloading extenrnal modules\n",
    "# see http://stackoverflow.com/questions/1907993/autoreload-of-modules-in-ipython\n",
    "%load_ext autoreload\n",
    "%autoreload 2"
   ]
  },
  {
   "cell_type": "code",
   "execution_count": 2,
   "metadata": {
    "tags": [
     "pdf-ignore"
    ]
   },
   "outputs": [
    {
     "name": "stdout",
     "output_type": "stream",
     "text": [
      "Train data shape:  (49000, 3073)\n",
      "Train labels shape:  (49000,)\n",
      "Validation data shape:  (1000, 3073)\n",
      "Validation labels shape:  (1000,)\n",
      "Test data shape:  (1000, 3073)\n",
      "Test labels shape:  (1000,)\n",
      "dev data shape:  (500, 3073)\n",
      "dev labels shape:  (500,)\n"
     ]
    }
   ],
   "source": [
    "def get_CIFAR10_data(num_training=49000, num_validation=1000, num_test=1000, num_dev=500):\n",
    "    \"\"\"\n",
    "    Load the CIFAR-10 dataset from disk and perform preprocessing to prepare\n",
    "    it for the linear classifier. These are the same steps as we used for the\n",
    "    SVM, but condensed to a single function.  \n",
    "    \"\"\"\n",
    "    # Load the raw CIFAR-10 data\n",
    "    cifar10_dir = 'cs231n/datasets/cifar-10-batches-py'\n",
    "    \n",
    "    # Cleaning up variables to prevent loading data multiple times (which may cause memory issue)\n",
    "    try:\n",
    "       del X_train, y_train\n",
    "       del X_test, y_test\n",
    "       print('Clear previously loaded data.')\n",
    "    except:\n",
    "       pass\n",
    "\n",
    "    X_train, y_train, X_test, y_test = load_CIFAR10(cifar10_dir)\n",
    "    \n",
    "    # subsample the data\n",
    "    mask = list(range(num_training, num_training + num_validation))\n",
    "    X_val = X_train[mask]\n",
    "    y_val = y_train[mask]\n",
    "    mask = list(range(num_training))\n",
    "    X_train = X_train[mask]\n",
    "    y_train = y_train[mask]\n",
    "    mask = list(range(num_test))\n",
    "    X_test = X_test[mask]\n",
    "    y_test = y_test[mask]\n",
    "    mask = np.random.choice(num_training, num_dev, replace=False)\n",
    "    X_dev = X_train[mask]\n",
    "    y_dev = y_train[mask]\n",
    "    \n",
    "    # Preprocessing: reshape the image data into rows\n",
    "    X_train = np.reshape(X_train, (X_train.shape[0], -1))\n",
    "    X_val = np.reshape(X_val, (X_val.shape[0], -1))\n",
    "    X_test = np.reshape(X_test, (X_test.shape[0], -1))\n",
    "    X_dev = np.reshape(X_dev, (X_dev.shape[0], -1))\n",
    "    \n",
    "    # Normalize the data: subtract the mean image\n",
    "    mean_image = np.mean(X_train, axis = 0)\n",
    "    X_train -= mean_image\n",
    "    X_val -= mean_image\n",
    "    X_test -= mean_image\n",
    "    X_dev -= mean_image\n",
    "    \n",
    "    # add bias dimension and transform into columns\n",
    "    X_train = np.hstack([X_train, np.ones((X_train.shape[0], 1))])\n",
    "    X_val = np.hstack([X_val, np.ones((X_val.shape[0], 1))])\n",
    "    X_test = np.hstack([X_test, np.ones((X_test.shape[0], 1))])\n",
    "    X_dev = np.hstack([X_dev, np.ones((X_dev.shape[0], 1))])\n",
    "    \n",
    "    return X_train, y_train, X_val, y_val, X_test, y_test, X_dev, y_dev\n",
    "\n",
    "\n",
    "# Invoke the above function to get our data.\n",
    "X_train, y_train, X_val, y_val, X_test, y_test, X_dev, y_dev = get_CIFAR10_data()\n",
    "print('Train data shape: ', X_train.shape)\n",
    "print('Train labels shape: ', y_train.shape)\n",
    "print('Validation data shape: ', X_val.shape)\n",
    "print('Validation labels shape: ', y_val.shape)\n",
    "print('Test data shape: ', X_test.shape)\n",
    "print('Test labels shape: ', y_test.shape)\n",
    "print('dev data shape: ', X_dev.shape)\n",
    "print('dev labels shape: ', y_dev.shape)"
   ]
  },
  {
   "cell_type": "markdown",
   "metadata": {},
   "source": [
    "## Softmax Classifier\n",
    "\n",
    "Your code for this section will all be written inside **cs231n/classifiers/softmax.py**. \n"
   ]
  },
  {
   "cell_type": "code",
   "execution_count": 3,
   "metadata": {},
   "outputs": [
    {
     "name": "stdout",
     "output_type": "stream",
     "text": [
      "loss: 2.357234\n",
      "sanity check: 2.302585\n"
     ]
    }
   ],
   "source": [
    "# First implement the naive softmax loss function with nested loops.\n",
    "# Open the file cs231n/classifiers/softmax.py and implement the\n",
    "# softmax_loss_naive function.\n",
    "\n",
    "from cs231n.classifiers.softmax import softmax_loss_naive\n",
    "import time\n",
    "\n",
    "# Generate a random softmax weight matrix and use it to compute the loss.\n",
    "W = np.random.randn(3073, 10) * 0.0001\n",
    "loss, grad = softmax_loss_naive(W, X_dev, y_dev, 0.0)\n",
    "\n",
    "# As a rough sanity check, our loss should be something close to -log(0.1).\n",
    "print('loss: %f' % loss)\n",
    "print('sanity check: %f' % (-np.log(0.1)))"
   ]
  },
  {
   "cell_type": "markdown",
   "metadata": {
    "tags": [
     "pdf-inline"
    ]
   },
   "source": [
    "**Inline Question 1**\n",
    "\n",
    "Why do we expect our loss to be close to -log(0.1)? Explain briefly.**\n",
    "\n",
    "$\\color{blue}{\\textit Your Answer:}$ *Fill this in* \n",
    "The output is near zero,and the number of classes is 10,so the probility is 0.1,the loss is -log(0.1).\n"
   ]
  },
  {
   "cell_type": "code",
   "execution_count": 4,
   "metadata": {},
   "outputs": [
    {
     "name": "stdout",
     "output_type": "stream",
     "text": [
      "numerical: 1.389900 analytic: 1.389900, relative error: 2.017698e-10\n",
      "numerical: -0.811191 analytic: -0.811191, relative error: 2.872197e-08\n",
      "numerical: 1.697320 analytic: 1.697320, relative error: 1.617441e-08\n",
      "numerical: 1.552893 analytic: 1.552893, relative error: 1.726184e-08\n",
      "numerical: 2.668220 analytic: 2.668220, relative error: 1.814826e-09\n",
      "numerical: 1.036439 analytic: 1.036439, relative error: 1.327418e-08\n",
      "numerical: 0.561405 analytic: 0.561405, relative error: 7.102155e-08\n",
      "numerical: 0.380749 analytic: 0.380749, relative error: 4.763760e-08\n",
      "numerical: -1.351759 analytic: -1.351759, relative error: 1.963196e-08\n",
      "numerical: -1.513896 analytic: -1.513896, relative error: 2.380061e-08\n",
      "numerical: -0.921223 analytic: -0.921223, relative error: 5.303996e-09\n",
      "numerical: -3.003318 analytic: -3.003317, relative error: 1.736060e-08\n",
      "numerical: -0.156707 analytic: -0.156707, relative error: 1.480012e-07\n",
      "numerical: -1.011481 analytic: -1.011481, relative error: 2.801096e-08\n",
      "numerical: 2.697889 analytic: 2.697889, relative error: 1.310713e-08\n",
      "numerical: 1.008765 analytic: 1.008765, relative error: 5.299499e-08\n",
      "numerical: -0.957472 analytic: -0.957472, relative error: 1.207391e-09\n",
      "numerical: -0.887136 analytic: -0.887136, relative error: 4.040472e-08\n",
      "numerical: 1.125547 analytic: 1.125546, relative error: 2.584967e-08\n",
      "numerical: 0.345213 analytic: 0.345213, relative error: 9.784295e-08\n"
     ]
    }
   ],
   "source": [
    "# Complete the implementation of softmax_loss_naive and implement a (naive)\n",
    "# version of the gradient that uses nested loops.\n",
    "loss, grad = softmax_loss_naive(W, X_dev, y_dev, 0.0)\n",
    "\n",
    "# As we did for the SVM, use numeric gradient checking as a debugging tool.\n",
    "# The numeric gradient should be close to the analytic gradient.\n",
    "from cs231n.gradient_check import grad_check_sparse\n",
    "f = lambda w: softmax_loss_naive(w, X_dev, y_dev, 0.0)[0]\n",
    "grad_numerical = grad_check_sparse(f, W, grad, 10)\n",
    "\n",
    "# similar to SVM case, do another gradient check with regularization\n",
    "loss, grad = softmax_loss_naive(W, X_dev, y_dev, 5e1)\n",
    "f = lambda w: softmax_loss_naive(w, X_dev, y_dev, 5e1)[0]\n",
    "grad_numerical = grad_check_sparse(f, W, grad, 10)"
   ]
  },
  {
   "cell_type": "code",
   "execution_count": 5,
   "metadata": {},
   "outputs": [
    {
     "name": "stdout",
     "output_type": "stream",
     "text": [
      "naive loss: 2.357234e+00 computed in 0.278912s\n",
      "vectorized loss: 2.357234e+00 computed in 0.006258s\n",
      "Loss difference: 0.000000\n",
      "Gradient difference: 0.000000\n"
     ]
    }
   ],
   "source": [
    "# Now that we have a naive implementation of the softmax loss function and its gradient,\n",
    "# implement a vectorized version in softmax_loss_vectorized.\n",
    "# The two versions should compute the same results, but the vectorized version should be\n",
    "# much faster.\n",
    "tic = time.time()\n",
    "loss_naive, grad_naive = softmax_loss_naive(W, X_dev, y_dev, 0.000005)\n",
    "toc = time.time()\n",
    "print('naive loss: %e computed in %fs' % (loss_naive, toc - tic))\n",
    "\n",
    "from cs231n.classifiers.softmax import softmax_loss_vectorized\n",
    "tic = time.time()\n",
    "loss_vectorized, grad_vectorized = softmax_loss_vectorized(W, X_dev, y_dev, 0.000005)\n",
    "toc = time.time()\n",
    "print('vectorized loss: %e computed in %fs' % (loss_vectorized, toc - tic))\n",
    "\n",
    "# As we did for the SVM, we use the Frobenius norm to compare the two versions\n",
    "# of the gradient.\n",
    "grad_difference = np.linalg.norm(grad_naive - grad_vectorized, ord='fro')\n",
    "print('Loss difference: %f' % np.abs(loss_naive - loss_vectorized))\n",
    "print('Gradient difference: %f' % grad_difference)"
   ]
  },
  {
   "cell_type": "code",
   "execution_count": 6,
   "metadata": {
    "tags": [
     "code"
    ]
   },
   "outputs": [
    {
     "name": "stdout",
     "output_type": "stream",
     "text": [
      "iteration 0 / 1500: loss 386.642657\n",
      "iteration 100 / 1500: loss 300.494625\n",
      "iteration 200 / 1500: loss 233.821180\n",
      "iteration 300 / 1500: loss 182.436917\n",
      "iteration 400 / 1500: loss 142.072506\n",
      "iteration 500 / 1500: loss 111.135693\n",
      "iteration 600 / 1500: loss 86.782193\n",
      "iteration 700 / 1500: loss 67.841857\n",
      "iteration 800 / 1500: loss 53.313381\n",
      "iteration 900 / 1500: loss 41.796433\n",
      "iteration 1000 / 1500: loss 33.065163\n",
      "iteration 1100 / 1500: loss 26.242978\n",
      "iteration 1200 / 1500: loss 20.731149\n",
      "iteration 1300 / 1500: loss 16.554325\n",
      "iteration 1400 / 1500: loss 13.382298\n",
      "iteration 0 / 1500: loss 773.718008\n",
      "iteration 100 / 1500: loss 468.736374\n",
      "iteration 200 / 1500: loss 284.469853\n",
      "iteration 300 / 1500: loss 173.133983\n",
      "iteration 400 / 1500: loss 105.643454\n",
      "iteration 500 / 1500: loss 64.746254\n",
      "iteration 600 / 1500: loss 39.968201\n",
      "iteration 700 / 1500: loss 25.072109\n",
      "iteration 800 / 1500: loss 15.970330\n",
      "iteration 900 / 1500: loss 10.551016\n",
      "iteration 1000 / 1500: loss 7.210440\n",
      "iteration 1100 / 1500: loss 5.178250\n",
      "iteration 1200 / 1500: loss 3.909901\n",
      "iteration 1300 / 1500: loss 3.171764\n",
      "iteration 1400 / 1500: loss 2.788342\n",
      "iteration 0 / 1500: loss 387.517963\n",
      "iteration 100 / 1500: loss 233.760496\n",
      "iteration 200 / 1500: loss 141.907619\n",
      "iteration 300 / 1500: loss 86.399399\n",
      "iteration 400 / 1500: loss 53.141907\n",
      "iteration 500 / 1500: loss 33.038960\n",
      "iteration 600 / 1500: loss 20.800634\n",
      "iteration 700 / 1500: loss 13.323962\n",
      "iteration 800 / 1500: loss 8.832762\n",
      "iteration 900 / 1500: loss 6.231015\n",
      "iteration 1000 / 1500: loss 4.509217\n",
      "iteration 1100 / 1500: loss 3.627323\n",
      "iteration 1200 / 1500: loss 2.908557\n",
      "iteration 1300 / 1500: loss 2.591714\n",
      "iteration 1400 / 1500: loss 2.418886\n",
      "iteration 0 / 1500: loss 779.410798\n",
      "iteration 100 / 1500: loss 286.305067\n",
      "iteration 200 / 1500: loss 106.074399\n",
      "iteration 300 / 1500: loss 40.201324\n",
      "iteration 400 / 1500: loss 16.026872\n",
      "iteration 500 / 1500: loss 7.192380\n",
      "iteration 600 / 1500: loss 3.929034\n",
      "iteration 700 / 1500: loss 2.780899\n",
      "iteration 800 / 1500: loss 2.361485\n",
      "iteration 900 / 1500: loss 2.177243\n",
      "iteration 1000 / 1500: loss 2.123662\n",
      "iteration 1100 / 1500: loss 2.141606\n",
      "iteration 1200 / 1500: loss 2.141522\n",
      "iteration 1300 / 1500: loss 2.134720\n",
      "iteration 1400 / 1500: loss 2.143397\n",
      "iteration 0 / 1500: loss 387.885135\n",
      "iteration 100 / 1500: loss 32.624693\n",
      "iteration 200 / 1500: loss 4.430354\n",
      "iteration 300 / 1500: loss 2.235470\n",
      "iteration 400 / 1500: loss 2.069869\n",
      "iteration 500 / 1500: loss 2.079146\n",
      "iteration 600 / 1500: loss 2.037162\n",
      "iteration 700 / 1500: loss 1.990041\n",
      "iteration 800 / 1500: loss 2.095771\n",
      "iteration 900 / 1500: loss 2.089621\n",
      "iteration 1000 / 1500: loss 2.050215\n",
      "iteration 1100 / 1500: loss 1.982200\n",
      "iteration 1200 / 1500: loss 2.073062\n",
      "iteration 1300 / 1500: loss 2.016243\n",
      "iteration 1400 / 1500: loss 2.024052\n",
      "iteration 0 / 1500: loss 777.561934\n",
      "iteration 100 / 1500: loss 6.927878\n",
      "iteration 200 / 1500: loss 2.111920\n",
      "iteration 300 / 1500: loss 2.166184\n",
      "iteration 400 / 1500: loss 2.078280\n",
      "iteration 500 / 1500: loss 2.118003\n",
      "iteration 600 / 1500: loss 2.035215\n",
      "iteration 700 / 1500: loss 2.098207\n",
      "iteration 800 / 1500: loss 2.110718\n",
      "iteration 900 / 1500: loss 2.119986\n",
      "iteration 1000 / 1500: loss 2.162183\n",
      "iteration 1100 / 1500: loss 2.107939\n",
      "iteration 1200 / 1500: loss 2.065017\n",
      "iteration 1300 / 1500: loss 2.123290\n",
      "iteration 1400 / 1500: loss 2.088682\n",
      "iteration 0 / 1500: loss 387.462609\n",
      "iteration 100 / 1500: loss 4.387917\n",
      "iteration 200 / 1500: loss 1.978213\n",
      "iteration 300 / 1500: loss 2.016096\n",
      "iteration 400 / 1500: loss 1.933434\n",
      "iteration 500 / 1500: loss 1.963455\n",
      "iteration 600 / 1500: loss 2.063795\n",
      "iteration 700 / 1500: loss 2.069873\n",
      "iteration 800 / 1500: loss 2.014340\n",
      "iteration 900 / 1500: loss 2.096743\n",
      "iteration 1000 / 1500: loss 2.077454\n",
      "iteration 1100 / 1500: loss 2.080027\n",
      "iteration 1200 / 1500: loss 2.111743\n",
      "iteration 1300 / 1500: loss 2.023848\n",
      "iteration 1400 / 1500: loss 1.939372\n",
      "iteration 0 / 1500: loss 771.810320\n",
      "iteration 100 / 1500: loss 2.108116\n",
      "iteration 200 / 1500: loss 2.085675\n",
      "iteration 300 / 1500: loss 2.101828\n",
      "iteration 400 / 1500: loss 2.120428\n",
      "iteration 500 / 1500: loss 2.130928\n",
      "iteration 600 / 1500: loss 2.107213\n",
      "iteration 700 / 1500: loss 2.095948\n",
      "iteration 800 / 1500: loss 2.115118\n",
      "iteration 900 / 1500: loss 2.025914\n",
      "iteration 1000 / 1500: loss 2.169297\n",
      "iteration 1100 / 1500: loss 2.096925\n",
      "iteration 1200 / 1500: loss 2.086960\n",
      "iteration 1300 / 1500: loss 2.047501\n",
      "iteration 1400 / 1500: loss 2.120916\n",
      "lr 5.000000e-08 reg 2.500000e+04 train accuracy: 0.314633 val accuracy: 0.327000\n",
      "lr 5.000000e-08 reg 5.000000e+04 train accuracy: 0.329612 val accuracy: 0.337000\n",
      "lr 1.000000e-07 reg 2.500000e+04 train accuracy: 0.351878 val accuracy: 0.361000\n",
      "lr 1.000000e-07 reg 5.000000e+04 train accuracy: 0.325694 val accuracy: 0.340000\n",
      "lr 5.000000e-07 reg 2.500000e+04 train accuracy: 0.343531 val accuracy: 0.356000\n",
      "lr 5.000000e-07 reg 5.000000e+04 train accuracy: 0.328265 val accuracy: 0.341000\n",
      "lr 1.000000e-06 reg 2.500000e+04 train accuracy: 0.336163 val accuracy: 0.354000\n",
      "lr 1.000000e-06 reg 5.000000e+04 train accuracy: 0.320020 val accuracy: 0.329000\n",
      "best validation accuracy achieved during cross-validation: 0.361000\n"
     ]
    }
   ],
   "source": [
    "# Use the validation set to tune hyperparameters (regularization strength and\n",
    "# learning rate). You should experiment with different ranges for the learning\n",
    "# rates and regularization strengths; if you are careful you should be able to\n",
    "# get a classification accuracy of over 0.35 on the validation set.\n",
    "from cs231n.classifiers import Softmax\n",
    "results = {}\n",
    "best_val = -1\n",
    "best_softmax = None\n",
    "learning_rates = [5e-8,1e-7, 5e-7,1e-6]\n",
    "regularization_strengths = [2.5e4, 5e4]\n",
    "\n",
    "################################################################################\n",
    "# TODO:                                                                        #\n",
    "# Use the validation set to set the learning rate and regularization strength. #\n",
    "# This should be identical to the validation that you did for the SVM; save    #\n",
    "# the best trained softmax classifer in best_softmax.                          #\n",
    "################################################################################\n",
    "# *****START OF YOUR CODE (DO NOT DELETE/MODIFY THIS LINE)*****\n",
    "\n",
    "for lr in learning_rates:\n",
    "    for reg in regularization_strengths:\n",
    "        softmax = Softmax()\n",
    "        loss_hist = softmax.train(X_train, y_train, learning_rate=lr, reg=reg,\n",
    "                      num_iters=1500, verbose=True)\n",
    "        y_train_pred = softmax.predict(X_train)\n",
    "        y_val_pred = softmax.predict(X_val)\n",
    "        train_accuracy=np.mean(y_train == y_train_pred)\n",
    "        val_accuracy=np.mean(y_val == y_val_pred)\n",
    "        results[(lr,reg)]=(train_accuracy,val_accuracy)\n",
    "        if val_accuracy>best_val:\n",
    "            best_softmax=softmax\n",
    "            best_val=val_accuracy\n",
    "pass\n",
    "\n",
    "# *****END OF YOUR CODE (DO NOT DELETE/MODIFY THIS LINE)*****\n",
    "    \n",
    "# Print out results.\n",
    "for lr, reg in sorted(results):\n",
    "    train_accuracy, val_accuracy = results[(lr, reg)]\n",
    "    print('lr %e reg %e train accuracy: %f val accuracy: %f' % (\n",
    "                lr, reg, train_accuracy, val_accuracy))\n",
    "    \n",
    "print('best validation accuracy achieved during cross-validation: %f' % best_val)"
   ]
  },
  {
   "cell_type": "code",
   "execution_count": 7,
   "metadata": {},
   "outputs": [
    {
     "name": "stdout",
     "output_type": "stream",
     "text": [
      "softmax on raw pixels final test set accuracy: 0.358000\n"
     ]
    }
   ],
   "source": [
    "# evaluate on test set\n",
    "# Evaluate the best softmax on test set\n",
    "y_test_pred = best_softmax.predict(X_test)\n",
    "test_accuracy = np.mean(y_test == y_test_pred)\n",
    "print('softmax on raw pixels final test set accuracy: %f' % (test_accuracy, ))"
   ]
  },
  {
   "cell_type": "markdown",
   "metadata": {
    "tags": [
     "pdf-inline"
    ]
   },
   "source": [
    "**Inline Question 2** - *True or False*\n",
    "\n",
    "Suppose the overall training loss is defined as the sum of the per-datapoint loss over all training examples. It is possible to add a new datapoint to a training set that would leave the SVM loss unchanged, but this is not the case with the Softmax classifier loss.\n",
    "\n",
    "$\\color{blue}{\\textit Your Answer:}$\n",
    "T\n",
    "\n",
    "$\\color{blue}{\\textit Your Explanation:}$\n",
    "The loss of SVM is decided by some points,while the loss of softmax is decided by all points.\n"
   ]
  },
  {
   "cell_type": "code",
   "execution_count": 8,
   "metadata": {},
   "outputs": [
    {
     "data": {
      "image/png": "[encoded data removed]",
      "text/plain": [
       "<Figure size 720x576 with 10 Axes>"
      ]
     },
     "metadata": {
      "needs_background": "light"
     },
     "output_type": "display_data"
    }
   ],
   "source": [
    "# Visualize the learned weights for each class\n",
    "w = best_softmax.W[:-1,:] # strip out the bias\n",
    "w = w.reshape(32, 32, 3, 10)\n",
    "\n",
    "w_min, w_max = np.min(w), np.max(w)\n",
    "\n",
    "classes = ['plane', 'car', 'bird', 'cat', 'deer', 'dog', 'frog', 'horse', 'ship', 'truck']\n",
    "for i in range(10):\n",
    "    plt.subplot(2, 5, i + 1)\n",
    "    \n",
    "    # Rescale the weights to be between 0 and 255\n",
    "    wimg = 255.0 * (w[:, :, :, i].squeeze() - w_min) / (w_max - w_min)\n",
    "    plt.imshow(wimg.astype('uint8'))\n",
    "    plt.axis('off')\n",
    "    plt.title(classes[i])"
   ]
  },
  {
   "cell_type": "code",
   "execution_count": null,
   "metadata": {},
   "outputs": [],
   "source": []
  }
 ],
 "metadata": {
  "kernelspec": {
   "display_name": "Python 3",
   "language": "python",
   "name": "python3"
  },
  "language_info": {
   "codemirror_mode": {
    "name": "ipython",
    "version": 3
   },
   "file_extension": ".py",
   "mimetype": "text/x-python",
   "name": "python",
   "nbconvert_exporter": "python",
   "pygments_lexer": "ipython3",
   "version": "3.7.0"
  }
 },
 "nbformat": 4,
 "nbformat_minor": 1
}
